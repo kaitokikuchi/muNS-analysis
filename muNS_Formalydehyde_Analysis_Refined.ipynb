{
 "cells": [
  {
   "cell_type": "code",
   "execution_count": 79,
   "metadata": {
    "collapsed": false
   },
   "outputs": [
    {
     "name": "stdout",
     "output_type": "stream",
     "text": [
      "4C\n"
     ]
    }
   ],
   "source": [
    "pix = 0.0225*2 #1pixel=0.0225µm\n",
    "fociID = input()"
   ]
  },
  {
   "cell_type": "code",
   "execution_count": 80,
   "metadata": {
    "collapsed": false
   },
   "outputs": [],
   "source": [
    "%matplotlib inline\n",
    "import numpy as np\n",
    "import pandas as pd\n",
    "import matplotlib.pyplot as plt\n",
    "plt.style.use('fivethirtyeight')\n",
    "plt.rcParams['font.size'] = 10\n",
    "celldf = pd.read_csv('/Volumes/Kikuchi-SSD/160117F3-MuNS-Per-Formaldehyde/160117muNS-30deg-0.2mMIPTG1h-Formaldehyde15min-1minInt-Bin2-Tx300msGFP500ms_1/results/Results_pos%s.xls' %fociID,sep='\\t')\n",
    "celldf  = celldf.drop('Mean',1)\n",
    "celldf = celldf.drop('X',1)\n",
    "celldf = celldf.drop('Y',1)\n",
    "celldf = celldf.drop('Perim.',1)\n",
    "celldf = celldf.drop('Major',1)\n",
    "celldf = celldf.drop('Minor',1)\n",
    "celldf.Area = celldf.Area*(pix**2)\n",
    "celldf.XM = celldf.XM*pix\n",
    "celldf.YM = celldf.YM*pix\n",
    "#celldf.head(3)\n",
    "\n",
    "#Original data is in reverse-chronological because of backwards tracking in ImageJ\n",
    "#Reverse order here so dataframe matches chronological order\n",
    "celldf =celldf.reindex(index=celldf.index[::-1])\n",
    "celldf = celldf.reset_index(drop=True)\n",
    "\n",
    "focidf = pd.read_csv('/Volumes/Kikuchi-SSD/160117F3-MuNS-Per-Formaldehyde/160117muNS-30deg-0.2mMIPTG1h-Formaldehyde15min-1minInt-Bin2-Tx300msGFP500ms_1/FociResults/FociResults_Pos%s.xls'%fociID,sep='\\t')\n",
    "\n",
    "\n",
    "focidf = focidf.drop('Label', 1)\n",
    "focidf = focidf.drop('Min', 1)\n",
    "focidf = focidf.drop('Max', 1)\n",
    "focidf = focidf.drop('Slice', 1)\n",
    "focidf = focidf.drop(399) #the cell ROI data lacks the first slice, so delete it here to match\n",
    "focidf.XM = focidf.XM*pix\n",
    "focidf.YM = focidf.YM*pix\n",
    "focidf =focidf.reindex(index=focidf.index[::-1])\n",
    "focidf = focidf.reset_index(drop=True)\n",
    "cellfocidisp = ((celldf.XM-focidf.XM)**2+(celldf.YM-focidf.YM)**2)**(1/2) \n",
    "#cellfocidisp.plot(label = 'Distance between Cell Center and Foci').legend(loc='upper left', bbox_to_anchor=(1, 0.5))\n",
    "brightness = pd.read_csv('/Volumes/Kikuchi-SSD/160117F3-MuNS-Per-Formaldehyde/160117muNS-30deg-0.2mMIPTG1h-Formaldehyde15min-1minInt-Bin2-Tx300msGFP500ms_1/BrightnessResults/BrightnessResults_Pos%s.xls'%fociID,sep='\\t')\n",
    "brightness = brightness.drop('Min',1)\n",
    "brightness = brightness.drop(' ',1)\n",
    "brightness = brightness.drop(399)\n",
    "cellx = celldf['XM']\n",
    "celly = celldf['YM']\n",
    "focix = focidf['XM']\n",
    "fociy = focidf['YM']\n",
    "celldisp = pd.Series(((cellx[i+1]-cellx[i])**2+(celly[i+1]-celly[i])**2)**(1/2) for i in range (len(cellx)-1))\n",
    "#print(polardisp[cartdispv > 0.15])\n",
    "cartdispv = pd.Series(((focix[i+1]-focix[i]-cellx[i+1]+cellx[i])**2+(fociy[i+1]-fociy[i]-celly[i+1]+celly[i])**2)**(1/2) for i in range (len(cellx)-1))\n",
    "\n",
    "rad = np.radians(celldf['Angle']) #convert cell ROI long axis angle to radians\n",
    "radfoci = rad-np.arctan2(focidf['YM'],focidf['XM']) #convert foci polar coordinate theta taking into account the ROI's angle\n",
    "\n",
    "polardisp= pd.Series((cellfocidisp[i+1]**2+cellfocidisp[i]**2-2*cellfocidisp[i]*cellfocidisp[i+1]*np.cos(radfoci[i+1]-radfoci[i]))**(1/2) for i in range (len(cellfocidisp)-1))\n",
    "\n",
    "#polardisp.plot(label = 'Polar Displacement',lw=1).legend(loc='center left', bbox_to_anchor=(1, 0.5))\n",
    "\n",
    "polardf=pd.DataFrame()\n",
    "polardf['r'] = cellfocidisp\n",
    "polardf['theta'] = radfoci\n",
    "polardf['rcostheta'] = cellfocidisp*np.cos(radfoci)\n",
    "\n",
    "for x in polardisp:\n",
    "    if x>0.1:\n",
    "        cartdispv[polardisp == x] = cartdispv.mean()\n",
    "        polardisp[polardisp == x] = polardisp.head(10).mean()\n",
    "        \n",
    "focix = focidf['XM']\n",
    "fociy = focidf['YM']\n",
    "cartdisp = pd.Series(((focix[i+1]-focix[i])**2+(fociy[i+1]-fociy[i])**2)**(1/2) for i in range (len(focix)-1))\n",
    "#cartdisp2 = pd.Series(np.linalg.norm(a-b))\n",
    "#cartdisp.plot(label = 'Cartesian Displacement',lw=1).legend(loc='center left', bbox_to_anchor=(1, 0.5))\n",
    "\n",
    "preradigy = pd.Series((x-polardf.rcostheta.mean())**2 for x in polardf.rcostheta)\n",
    "radigy= np.sqrt(preradigy.mean())\n",
    "\n",
    "formaldehyde = pd.DataFrame({'Fluorescence_Intensity':brightness.Max.head(10).mean(),\n",
    "                         'Mean_Polar_Displacement': polardisp.mean(),\n",
    "                             'SEM_Polar_Displacement': polardisp.std()/np.sqrt(len(polardisp)),\n",
    "                          'CV_Polar_Displacement': polardisp.std()/polardisp.mean(),\n",
    "                          'Radius_Gyration':radigy},index = [fociID])\n",
    "formaldehyde.index.name = 'Foci_ID'\n",
    "formaldehyde.to_csv('/Volumes/Kikuchi-SSD/160117F3-MuNS-Per-Formaldehyde/160117muNS-30deg-0.2mMIPTG1h-Formaldehyde15min-1minInt-Bin2-Tx300msGFP500ms_1/Python_Processed'+'/GeneralData/data_%s.csv'%fociID, sep=',')"
   ]
  },
  {
   "cell_type": "code",
   "execution_count": 73,
   "metadata": {
    "collapsed": false
   },
   "outputs": [
    {
     "data": {
      "text/plain": [
       "<matplotlib.axes._subplots.AxesSubplot at 0x10a130080>"
      ]
     },
     "execution_count": 73,
     "metadata": {},
     "output_type": "execute_result"
    },
    {
     "data": {
      "image/png": "[encoded data removed]",
      "text/plain": [
       "<matplotlib.figure.Figure at 0x10a22cfd0>"
      ]
     },
     "metadata": {},
     "output_type": "display_data"
    }
   ],
   "source": [
    "polardisp.hist(bins=np.arange(0,0.2,0.02))"
   ]
  },
  {
   "cell_type": "code",
   "execution_count": 81,
   "metadata": {
    "collapsed": true
   },
   "outputs": [],
   "source": [
    "%matplotlib inline\n",
    "import glob, os, pandas as pd, numpy as np\n",
    "import matplotlib.pyplot as plt\n",
    "plt.style.use('fivethirtyeight')\n",
    "plt.rcParams['font.size'] = 10\n",
    "directory = '/Volumes/Kikuchi-SSD/160117F3-MuNS-Per-Formaldehyde/160117muNS-30deg-0.2mMIPTG1h-Formaldehyde15min-1minInt-Bin2-Tx300msGFP500ms_1/Python_Processed'\n",
    "os.chdir(directory)\n",
    "totdf = pd.DataFrame\n",
    "contentlist = []\n",
    "for path in glob.glob(\"GeneralData/data_*.csv\"):\n",
    "    df = pd.read_csv(path, header=0)\n",
    "    contentlist.append(df)\n",
    "    totdf = pd.concat(contentlist)"
   ]
  },
  {
   "cell_type": "code",
   "execution_count": 82,
   "metadata": {
    "collapsed": false
   },
   "outputs": [
    {
     "data": {
      "text/html": [
       "<div>\n",
       "<table border=\"1\" class=\"dataframe\">\n",
       "  <thead>\n",
       "    <tr style=\"text-align: right;\">\n",
       "      <th></th>\n",
       "      <th>Foci_ID</th>\n",
       "      <th>CV_Polar_Displacement</th>\n",
       "      <th>Fluorescence_Intensity</th>\n",
       "      <th>Mean_Polar_Displacement</th>\n",
       "      <th>Radius_Gyration</th>\n",
       "      <th>SEM_Polar_Displacement</th>\n",
       "    </tr>\n",
       "  </thead>\n",
       "  <tbody>\n",
       "    <tr>\n",
       "      <th>0</th>\n",
       "      <td>4C</td>\n",
       "      <td>0.603106</td>\n",
       "      <td>551.0</td>\n",
       "      <td>0.033186</td>\n",
       "      <td>0.018040</td>\n",
       "      <td>0.001003</td>\n",
       "    </tr>\n",
       "    <tr>\n",
       "      <th>0</th>\n",
       "      <td>4A</td>\n",
       "      <td>0.618773</td>\n",
       "      <td>539.7</td>\n",
       "      <td>0.031485</td>\n",
       "      <td>0.044961</td>\n",
       "      <td>0.000977</td>\n",
       "    </tr>\n",
       "    <tr>\n",
       "      <th>0</th>\n",
       "      <td>4B</td>\n",
       "      <td>0.735420</td>\n",
       "      <td>717.2</td>\n",
       "      <td>0.024139</td>\n",
       "      <td>0.078797</td>\n",
       "      <td>0.000890</td>\n",
       "    </tr>\n",
       "  </tbody>\n",
       "</table>\n",
       "</div>"
      ],
      "text/plain": [
       "  Foci_ID  CV_Polar_Displacement  Fluorescence_Intensity  \\\n",
       "0      4C               0.603106                   551.0   \n",
       "0      4A               0.618773                   539.7   \n",
       "0      4B               0.735420                   717.2   \n",
       "\n",
       "   Mean_Polar_Displacement  Radius_Gyration  SEM_Polar_Displacement  \n",
       "0                 0.033186         0.018040                0.001003  \n",
       "0                 0.031485         0.044961                0.000977  \n",
       "0                 0.024139         0.078797                0.000890  "
      ]
     },
     "execution_count": 82,
     "metadata": {},
     "output_type": "execute_result"
    }
   ],
   "source": [
    "totdf"
   ]
  },
  {
   "cell_type": "code",
   "execution_count": 56,
   "metadata": {
    "collapsed": false
   },
   "outputs": [
    {
     "data": {
      "text/plain": [
       "0.02960308096618883"
      ]
     },
     "execution_count": 56,
     "metadata": {},
     "output_type": "execute_result"
    }
   ],
   "source": [
    "totdf.Mean_Polar_Displacement.mean()"
   ]
  },
  {
   "cell_type": "code",
   "execution_count": 57,
   "metadata": {
    "collapsed": false
   },
   "outputs": [
    {
     "data": {
      "text/plain": [
       "0.047265842276555205"
      ]
     },
     "execution_count": 57,
     "metadata": {},
     "output_type": "execute_result"
    }
   ],
   "source": [
    "totdf.Radius_Gyration.mean()"
   ]
  },
  {
   "cell_type": "code",
   "execution_count": 67,
   "metadata": {
    "collapsed": false
   },
   "outputs": [
    {
     "data": {
      "text/plain": [
       "<matplotlib.axes._subplots.AxesSubplot at 0x108539080>"
      ]
     },
     "execution_count": 67,
     "metadata": {},
     "output_type": "execute_result"
    },
    {
     "data": {
      "image/png": "[encoded data removed]",
      "text/plain": [
       "<matplotlib.figure.Figure at 0x1085438d0>"
      ]
     },
     "metadata": {},
     "output_type": "display_data"
    }
   ],
   "source": [
    "totdf.Mean_Polar_Displacement.hist(bins=np.arange(0,1,0.05))"
   ]
  },
  {
   "cell_type": "code",
   "execution_count": null,
   "metadata": {
    "collapsed": true
   },
   "outputs": [],
   "source": []
  }
 ],
 "metadata": {
  "kernelspec": {
   "display_name": "Python 3",
   "language": "python",
   "name": "python3"
  },
  "language_info": {
   "codemirror_mode": {
    "name": "ipython",
    "version": 3
   },
   "file_extension": ".py",
   "mimetype": "text/x-python",
   "name": "python",
   "nbconvert_exporter": "python",
   "pygments_lexer": "ipython3",
   "version": "3.4.3"
  }
 },
 "nbformat": 4,
 "nbformat_minor": 0
}
