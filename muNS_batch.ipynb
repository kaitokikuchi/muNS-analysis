{
 "cells": [
  {
   "cell_type": "markdown",
   "metadata": {},
   "source": [
    "### Batch muNS analysis\n",
    "Use this notebook for executing `muNS-analysis.py` (which is mostly the same as the muNS-analysis notebook) across all the data files in the corresponding directories."
   ]
  },
  {
   "cell_type": "code",
   "execution_count": 6,
   "metadata": {
    "collapsed": false
   },
   "outputs": [],
   "source": [
    "import numpy as np,pandas as pd, matplotlib.pyplot as plt, glob, os, csv, sys, re\n",
    "\n",
    "#Set working directories\n",
    "celldir = '/Volumes/Kikuchi-SSD/150701F3-muNS-Per2/F3-muNS-30deg-M9glycas-0.2mMIPTG1h-bin2-TxRed300-GFP500-1minint_1/results/'\n",
    "focidir = '/Volumes/Kikuchi-SSD/150701F3-muNS-Per2/F3-muNS-30deg-M9glycas-0.2mMIPTG1h-bin2-TxRed300-GFP500-1minint_1/FociResults/'\n",
    "brightdir = '/Volumes/Kikuchi-SSD/150701F3-muNS-Per2/F3-muNS-30deg-M9glycas-0.2mMIPTG1h-bin2-TxRed300-GFP500-1minint_1/BrightnessResults/'\n",
    "\n",
    "#Get data file list\n",
    "cellfilelist = [files for files in glob.iglob(celldir+'*.xls')]\n",
    "focifilelist = [files for files in glob.iglob(focidir+'*.xls')]\n",
    "brifilelist = [files for files in glob.iglob(brightdir+'*.xls')]\n",
    "\n",
    "#Set regex to extract position\n",
    "regex = re.compile(r\"^[^_]*_[^_]*_(.*)[.]xls$\")\n",
    "\n",
    "#Store foci ID in list\n",
    "focilist = [re.sub(regex, r\"\\1\",x) for x in brifilelist]\n",
    "\n",
    "#Generate dictionary for linking foci ID and datafile\n",
    "celldict = {fociID:x for fociID in focilist for x in cellfilelist  if x == celldir+'Results_%s.xls'%fociID}\n",
    "focidict = {fociID:x for fociID in focilist for x in focifilelist  if x == focidir+'FociResults_%s.xls'%fociID}\n",
    "bridict = {fociID:x for fociID in focilist for x in brifilelist  if x == brightdir+'BrightnessResults_%s.xls'%fociID}\n",
    "\n",
    "for fociID in focilist:\n",
    "    celldata  = celldict[fociID]\n",
    "    focidata = focidict[fociID]\n",
    "    bridata = bridict[fociID]\n",
    "    !python /Users/kaito/Dropbox/Wakamoto-lab/scripts/muNS-analysis.py $celldata $focidata $bridata"
   ]
  },
  {
   "cell_type": "code",
   "execution_count": null,
   "metadata": {
    "collapsed": true
   },
   "outputs": [],
   "source": []
  }
 ],
 "metadata": {
  "kernelspec": {
   "display_name": "Python 3",
   "language": "python",
   "name": "python3"
  },
  "language_info": {
   "codemirror_mode": {
    "name": "ipython",
    "version": 3
   },
   "file_extension": ".py",
   "mimetype": "text/x-python",
   "name": "python",
   "nbconvert_exporter": "python",
   "pygments_lexer": "ipython3",
   "version": "3.4.3"
  }
 },
 "nbformat": 4,
 "nbformat_minor": 0
}
